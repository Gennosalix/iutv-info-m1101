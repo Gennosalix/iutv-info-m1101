{
 "cells": [
  {
   "cell_type": "code",
   "execution_count": null,
   "metadata": {},
   "outputs": [],
   "source": [
    "from common import utils\n",
    "import random\n",
    "u=utils(False)"
   ]
  },
  {
   "cell_type": "markdown",
   "metadata": {},
   "source": [
    "# Les flux\n",
    "\n",
    "Les programmes informatiques (applications) communiquent avec des moyens divers, et des interlocuteurs divers.\n",
    "\n",
    "Ils communiquent avec :\n",
    "\n",
    "  * des utilisateurs locaux (applications)\n",
    "  * des utilisateurs distants (client et serveur)\n",
    "  * des bases de données\n",
    "  * des écrans (et autres dispositifs d'entrée-sortie)\n",
    "  * d'autres ordinateurs\n",
    "\n",
    "La réalité est que les seuls programmes qui ont un effet sont ceux qui permettent des entrées-sorties.\n",
    "Tous les autres programmes ne font que communiquer avec d'autres programmes.\n",
    "\n",
    "On distingue plusieurs types d'entrée ou sortie du système :\n",
    "\n",
    "  * Stockage de masse\n",
    "  * Réseau\n",
    "  * Dispositifs physiques d'entrée-sortie (du clavier au bras mécanique en passant par les écrans et les moteurs de fusée).\n",
    "\n",
    "Le shell permet de contrôler certaines communications entre les processus et autres intervenants."
   ]
  },
  {
   "cell_type": "code",
   "execution_count": null,
   "metadata": {
    "hideCode": true
   },
   "outputs": [],
   "source": [
    "from graphviz import Graph\n",
    "\n",
    "dot = Graph(comment='Tree')\n",
    "processx = [ \"écran\",\"réseau\", \"clavier\", \"souris\", \"carte son\", \"disque dur\"]\n",
    "process = []\n",
    "for i in range(0,8):\n",
    "    process.append(str(random.randint(0,20000)+1024))\n",
    "for i in process+processx:\n",
    "    dot.node(i)\n",
    "\n",
    "xorg = None\n",
    "\n",
    "for i in process.copy():\n",
    "    if i in process:\n",
    "        process.remove(i)\n",
    "    l = processx + process\n",
    "    connected = False\n",
    "    if xorg == None:\n",
    "        dot.edge(i,\"clavier\")\n",
    "        dot.edge(i,\"souris\")\n",
    "        dot.edge(i,\"écran\")\n",
    "        processx.remove(\"clavier\")\n",
    "        processx.remove(\"souris\")\n",
    "        processx.remove(\"écran\")\n",
    "        l = processx + process\n",
    "        processx.append(i)\n",
    "        xorg = i\n",
    "        connected = True\n",
    "    else:\n",
    "        if random.random()<.8:\n",
    "            m = xorg\n",
    "            l.remove(m)\n",
    "            dot.edge(i,m)\n",
    "            connected = True\n",
    "        if random.random()<.9:\n",
    "            m = \"disque dur\"\n",
    "            l.remove(m)\n",
    "            dot.edge(i,m)\n",
    "            connected = True\n",
    "    while len(l)>0 and (random.random()<.3 or not connected):\n",
    "        m = random.choice(l)\n",
    "        l.remove(m)\n",
    "        dot.edge(i,m)\n",
    "display(dot)"
   ]
  },
  {
   "cell_type": "markdown",
   "metadata": {},
   "source": [
    "Les communications qui nous intéressent sont les communications qui ont lieu par un certain type d'interface, les interfaces de type *fichier*. S'il paraît évident que les interfaces de type fichier sont utilisées par le disque dur, elles le sont aussi pour un grand nombre d'autres périphériques d'entrée-sortie dans la famille des systèmes d'exploitation Unix/Linux.\n",
    "\n",
    "## Un processus, des flux\n",
    "\n",
    "Chaque processus fait appel au système d'exploitation pour communiquer avec le reste du système. Dans le cadre de la communication par un flux de type *fichier*, cette communication est codée par un certain nombre d'informations qui sont toutes regroupées dans un **descripteur de fichier** (en anglais, *file descriptor* ou *fd*). Chaque processus peut avoir au plus un certain nombre de descripteurs de fichiers ouverts en même temps qui est fixé par le système.\n",
    "\n",
    "Chaque processus peut ainsi être vu comme une petite cellule, qui pour communiquer dispose de fenêtres qu'elle peut connecter à d'autres dispositifs (en général, un *fichier* sur un disque dur, mais nous verrons plus loin que ce n'est pas du tout le seul cas). Ces fenêtres, à leur ouverture, sont mises en mode *lecture*, *écriture*, ou encore bidirectionnel (*lecture et écriture*)."
   ]
  },
  {
   "cell_type": "code",
   "execution_count": null,
   "metadata": {},
   "outputs": [],
   "source": [
    "%%sh\n",
    "#! /bin/sh\n",
    "# L'explication de cette syntaxe arrive plus loin !\n",
    "# ulimit -n permet de lister le nombre de descripteurs de fichiers simultanés autorisés\n",
    "echo \"Il est possible d'ouvrir au plus simultanément $(ulimit -n) fichiers sur ce système.\""
   ]
  },
  {
   "cell_type": "code",
   "execution_count": null,
   "metadata": {},
   "outputs": [],
   "source": [
    "u.xtoggle()"
   ]
  }
 ],
 "metadata": {
  "celltoolbar": "Hide code",
  "kernelspec": {
   "display_name": "Python 3",
   "language": "python",
   "name": "python3"
  },
  "language_info": {
   "codemirror_mode": {
    "name": "ipython",
    "version": 3
   },
   "file_extension": ".py",
   "mimetype": "text/x-python",
   "name": "python",
   "nbconvert_exporter": "python",
   "pygments_lexer": "ipython3",
   "version": "3.6.7rc1"
  },
  "toc": {
   "base_numbering": 1,
   "nav_menu": {},
   "number_sections": true,
   "sideBar": true,
   "skip_h1_title": false,
   "title_cell": "Table of Contents",
   "title_sidebar": "Contents",
   "toc_cell": false,
   "toc_position": {},
   "toc_section_display": true,
   "toc_window_display": false
  }
 },
 "nbformat": 4,
 "nbformat_minor": 2
}
