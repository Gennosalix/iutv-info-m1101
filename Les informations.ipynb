{
 "cells": [
  {
   "cell_type": "code",
   "execution_count": 2,
   "metadata": {},
   "outputs": [],
   "source": [
    "import tikzmagic"
   ]
  },
  {
   "cell_type": "markdown",
   "metadata": {},
   "source": [
    "# Représenter une information"
   ]
  },
  {
   "cell_type": "markdown",
   "metadata": {},
   "source": [
    "## Un nombre, ou un autre ?\n",
    "\n",
    "Proposez plusieurs façons de représenter un nombre, dont au moins une qui n'est pas la représentation décimale habituelle. Donnez la représenation par exemple pour le nombre 9.\n",
    "\n",
    "Est-ce que votre représentation a des inconvénients ?"
   ]
  },
  {
   "cell_type": "markdown",
   "metadata": {},
   "source": [
    "Je choisis la représentation suivante :\n",
    "\n",
    "...\n",
    "\n",
    "Le nombre 9 se représente ...\n",
    "\n",
    "Les inconvénients de cette représentation sont par exemple :"
   ]
  },
  {
   "cell_type": "markdown",
   "metadata": {},
   "source": [
    "## Devinette\n",
    "\n",
    "Travaillez en paire (ou triplettes). Proposez une méthode pour transmettre d’une personne à une autre\n",
    "le résultat d’un lancer de dé (lancer caché par la première personne, la deuxième doit pouvoir\n",
    "énoncer le résultat). Votre méthode fonctionne-t-elle si le dé comporte 20 faces ? Et si le dé est à six\n",
    "faces mais étiqueté par des couleurs ?"
   ]
  },
  {
   "cell_type": "code",
   "execution_count": 3,
   "metadata": {
    "scrolled": true
   },
   "outputs": [
    {
     "name": "stdout",
     "output_type": "stream",
     "text": [
      "Essayez de transmettre :  5\n",
      "Essayez de transmettre :  3\n",
      "Essayez de transmettre :  4\n",
      "Essayez de transmettre :  4\n",
      "Essayez de transmettre :  9\n",
      "Essayez de transmettre :  10\n"
     ]
    },
    {
     "data": {
      "text/html": [
       "<tt>Et ensuite, essayez de transmettre : <span style=\"color:blue;\">⬤</span></tt>"
      ],
      "text/plain": [
       "<IPython.core.display.HTML object>"
      ]
     },
     "execution_count": 3,
     "metadata": {},
     "output_type": "execute_result"
    }
   ],
   "source": [
    "from IPython.display import HTML\n",
    "import random\n",
    "testinfo = [i for i in range(1,7)]\n",
    "for i in range(1,4):\n",
    "    a = random.sample(testinfo,1)[0]\n",
    "    print(\"Essayez de transmettre : \",a)\n",
    "    testinfo.remove(a)\n",
    "testinfo = [i for i in range(1,20)]\n",
    "for i in range(1,4):\n",
    "    a = random.sample(testinfo,1)[0]\n",
    "    print(\"Essayez de transmettre : \",a)\n",
    "    testinfo.remove(a)\n",
    "\n",
    "testinfo2 = ['red','blue','cyan','magenta','yellow','green']\n",
    "HTML(\"<tt>Et ensuite, essayez de transmettre : <span style=\\\"color:\"+random.sample(testinfo2,1)[0]+\";\\\">⬤</span></tt>\")\n",
    "\n"
   ]
  },
  {
   "cell_type": "markdown",
   "metadata": {},
   "source": [
    "**Information** Une information est une donnée que l’on peut interpréter pour se construire une représentation du monde sur laquelle on peut agir.\n",
    "\n",
    "💡 Claude Shannon a été l'un des premiers à définir l'information comme une quantité mesurable.\n",
    "\n",
    "⚠️ L’information de Shannon n’est pas associé au sens ou à la cognition.\n",
    "* Il s’est intéressé à quantifier des sources aléatoires\n",
    "* L’information diminue l’incertitude sur une source aléatoire\n",
    "* On mesure donc la quantité d’information relative à un événement\n",
    "* Par exemple, si on a six possibilités pour un dé, l’information permet de savoir quelle face ; ou au\n",
    "moins d’éliminer des possibilités\n",
    "\n",
    "Il est possible de représenter différents concepts sur un seul schéma.\n",
    "\n",
    "Ce que l'on aime pouvoir faire, c'est appliquer une *fonction* à des *concepts*.\n",
    "\n",
    "Pour cela, il faudra choisir une représentation du concept de départ, transformer le concept en *données* utilisables, appliquer un *algorithme* sur les *données*, et faire l'*interprétation* des données résultantes (le contraire de la représentation initiale)."
   ]
  },
  {
   "cell_type": "code",
   "execution_count": 11,
   "metadata": {
    "scrolled": true
   },
   "outputs": [
    {
     "data": {
      "image/png": "[encoded data removed]",
      "text/plain": [
       "<IPython.core.display.Image object>"
      ]
     },
     "execution_count": 11,
     "metadata": {},
     "output_type": "execute_result"
    }
   ],
   "source": [
    "%%tikz -l snakes\n",
    "\n",
    "      \\tikzstyle{every node}=[fill=black!20,draw=black,rounded corners]\n",
    "      \\tikzstyle{data}=[color=red,every node]\n",
    "      \\tikzstyle{xlabel}=[color=magenta,fill opacity=30,text opacity=1,every node]\n",
    "      \\tikzstyle{snaky}=[decorate,normally,decoration={snake,pre length=5mm}]\n",
    "      \\tikzstyle{normally}=[thick]\n",
    "      \\tikzstyle{cloudy}=[color=green!30!black,every node]\n",
    "      \\node [cloudy] (a) at (0,2) {Concept};\n",
    "      \\node [cloudy] (b) at (6,2) {Concept}\n",
    "      edge [<-,snaky] node[xlabel,below] {fonction} (a);\n",
    "      \\node [data] (c) at (0,0) {Donnée}\n",
    "      edge  [<-,normally] node[xlabel] {représentation} (a) (a);\n",
    "      \\node [data] (d) at (6,0) {Donnée}\n",
    "      edge  [<-,normally] node[xlabel,above] {algorithme}(c)\n",
    "      edge  [->,normally] node[xlabel] {interprétation} (b);\n",
    "\n"
   ]
  },
  {
   "cell_type": "markdown",
   "metadata": {},
   "source": [
    "On ne sait pas manipuler le *sens* des choses. \n",
    "\n",
    "💡 Un même concept peut avoir plusieurs représentations très distinctes. Par exemple, le nombre [14](https://fr.wikipedia.org/wiki/Syst%C3%A8me_d%C3%A9cimal), le nombre [XIV](https://fr.wikipedia.org/wiki/Num%C3%A9ration_romaine), le nombre [IIIIIIIIIIIIII](https://fr.wikipedia.org/wiki/Syst%C3%A8me_unaire) sont toutes des représentations du même concept.\n",
    "\n",
    "L'informaticien doit connaître les principales représentations/interprétations des concepts classiques.\n",
    "\n",
    "Nous verrons dans ce cours :\n",
    "\n",
    " * les nombres\n",
    " * les valeurs analogiques (concepts inexploitables) et comment les traduire en nombre\n",
    " * les textes\n",
    " * quelques élements sur les média structurés\n",
    " \n",
    "Mais l'essentiel est de comprendre que l'ordinateur (comme toute machine) n'est capable que de manipuler des choses dans l'univers des *données* et non pas des concepts."
   ]
  },
  {
   "cell_type": "code",
   "execution_count": null,
   "metadata": {},
   "outputs": [],
   "source": []
  },
  {
   "cell_type": "code",
   "execution_count": null,
   "metadata": {},
   "outputs": [],
   "source": []
  }
 ],
 "metadata": {
  "kernelspec": {
   "display_name": "Python 3",
   "language": "python",
   "name": "python3"
  },
  "language_info": {
   "codemirror_mode": {
    "name": "ipython",
    "version": 3
   },
   "file_extension": ".py",
   "mimetype": "text/x-python",
   "name": "python",
   "nbconvert_exporter": "python",
   "pygments_lexer": "ipython3",
   "version": "3.6.6"
  }
 },
 "nbformat": 4,
 "nbformat_minor": 2
}
